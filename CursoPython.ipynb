{
  "nbformat": 4,
  "nbformat_minor": 0,
  "metadata": {
    "colab": {
      "name": "CursoPython.ipynb",
      "provenance": [],
      "collapsed_sections": [],
      "toc_visible": true,
      "authorship_tag": "ABX9TyO3AB7GwaDfDX5ajI68G2YL",
      "include_colab_link": true
    },
    "kernelspec": {
      "name": "python3",
      "display_name": "Python 3"
    },
    "language_info": {
      "name": "python"
    }
  },
  "cells": [
    {
      "cell_type": "markdown",
      "metadata": {
        "id": "view-in-github",
        "colab_type": "text"
      },
      "source": [
        "<a href=\"https://colab.research.google.com/github/wellingtonag/aulapython/blob/main/CursoPython.ipynb\" target=\"_parent\"><img src=\"https://colab.research.google.com/assets/colab-badge.svg\" alt=\"Open In Colab\"/></a>"
      ]
    },
    {
      "cell_type": "code",
      "execution_count": 65,
      "metadata": {
        "id": "vTzKNB6DHwTk"
      },
      "outputs": [],
      "source": [
        "# Inteiro\n",
        "primeiraVar = 7\n",
        "sergundaVar = 10\n",
        "# Float\n",
        "terceiraVar = 10.98"
      ]
    },
    {
      "cell_type": "code",
      "source": [
        "# Imprimindo os valores das minhas variáveis\n",
        "print(primeiraVar)\n",
        "print(sergundaVar)\n",
        "print(terceiraVar)"
      ],
      "metadata": {
        "colab": {
          "base_uri": "https://localhost:8080/"
        },
        "id": "AX-NilpdH5rH",
        "outputId": "2d0e82d3-392d-4a0b-92c1-60d4c2306d21"
      },
      "execution_count": 66,
      "outputs": [
        {
          "output_type": "stream",
          "name": "stdout",
          "text": [
            "7\n",
            "10\n",
            "10.98\n"
          ]
        }
      ]
    },
    {
      "cell_type": "code",
      "source": [
        "# Textos\n",
        "nome = \"Wellington\"\n",
        "sobrenome = \"Garcia\"\n",
        "idade = 43\n",
        "email = \"wellingtonag@gmail.com\""
      ],
      "metadata": {
        "id": "Ddc4f2fzIF9C"
      },
      "execution_count": 27,
      "outputs": []
    },
    {
      "cell_type": "code",
      "source": [
        "# Imprimindo o meu texto\n",
        "print(\"Imprimir minhas informações\")\n",
        "print(\"---------------------------\")\n",
        "print(\"Nome:\", nome)\n",
        "print(\"Sobrenome:\", sobrenome)\n",
        "print(\"Idade:\", idade)\n",
        "\n",
        "print(\"\\nConcatenando as variáveis\")\n",
        "print(\"\\n\"+ nome, sobrenome) # Não junta as variáveis nome e sobrenome na concatenação\n",
        "print(nome + sobrenome) # Junta variáveis nome e sobrenome\n",
        "print(nome + \" \" + sobrenome) # \" \" (aspas com espaço) separa variáveis nome e sobrenome \n",
        "print(\" \") # Print com aspas e espaço pula linha\n",
        "# Concatenando as minhas infos com textos pré definidos (\\n pula linha)\n",
        "print(\"Olá, meu nome é\", nome, sobrenome+\".\\nTenho\", idade, \"anos.\\nMeu email é\", email)"
      ],
      "metadata": {
        "colab": {
          "base_uri": "https://localhost:8080/"
        },
        "id": "dkxSO8UOIUdO",
        "outputId": "097c7d32-d039-4d57-921b-2d2d3125de79"
      },
      "execution_count": 72,
      "outputs": [
        {
          "output_type": "stream",
          "name": "stdout",
          "text": [
            "Imprimir minhas informações\n",
            "---------------------------\n",
            "Nome: Wellington\n",
            "Sobrenome: Garcia\n",
            "Idade: 43\n",
            "\n",
            "Concatenando as variáveis\n",
            "\n",
            "Wellington Garcia\n",
            "WellingtonGarcia\n",
            "Wellington Garcia\n",
            " \n",
            "Olá, meu nome é Wellington Garcia.\n",
            "Tenho 43 anos.\n",
            "Meu email é wellingtonag@gmail.com\n"
          ]
        }
      ]
    },
    {
      "cell_type": "markdown",
      "source": [
        ""
      ],
      "metadata": {
        "id": "YVThL4I2PS1w"
      }
    },
    {
      "cell_type": "code",
      "source": [
        ""
      ],
      "metadata": {
        "id": "WBsjXIK-JDUV"
      },
      "execution_count": 11,
      "outputs": []
    },
    {
      "cell_type": "markdown",
      "source": [
        "### Operadores Aritméticos"
      ],
      "metadata": {
        "id": "ALqTkwM8PKLK"
      }
    },
    {
      "cell_type": "markdown",
      "source": [
        ""
      ],
      "metadata": {
        "id": "FGXvRe9NPPSF"
      }
    },
    {
      "cell_type": "code",
      "source": [
        "a = 11\n",
        "b = 2\n"
      ],
      "metadata": {
        "id": "lSj3fVVoJQDb"
      },
      "execution_count": 81,
      "outputs": []
    },
    {
      "cell_type": "code",
      "source": [
        "print(\"Calculadora - Curso Python\")\n",
        "print(\"--------------------------\")\n",
        "print(\"\\nA soma dos valores resultou em:\", a + b)\n",
        "print(\"A subtração dos valores resultou em:\", a - b)\n",
        "print(\"A multiplicação dos valores resultou em:\", a * b)\n",
        "print(\"A divisão dos valores resultou em:\", a / b)\n",
        "print(\"A sobra da divisão dos valores resultou em:\", a % b)\n"
      ],
      "metadata": {
        "colab": {
          "base_uri": "https://localhost:8080/"
        },
        "id": "IuyYpCumQCtZ",
        "outputId": "b530119f-25f0-4229-e365-3bb87f7e699e"
      },
      "execution_count": 73,
      "outputs": [
        {
          "output_type": "stream",
          "name": "stdout",
          "text": [
            "Calculadora - Curso Python\n",
            "--------------------------\n",
            "\n",
            "A soma dos valores resultou em: 13\n",
            "A subtração dos valores resultou em: 9\n",
            "A multiplicação dos valores resultou em: 22\n",
            "A divisão dos valores resultou em: 5.5\n",
            "A sobra da divisão dos valores resultou em: 1\n"
          ]
        }
      ]
    },
    {
      "cell_type": "code",
      "source": [
        ""
      ],
      "metadata": {
        "id": "7_VwXWNbUnIp"
      },
      "execution_count": null,
      "outputs": []
    },
    {
      "cell_type": "markdown",
      "source": [
        "### Operadores Relacionais\n",
        "\n",
        "Eles servem para comparar informações que temos\n",
        "em nossas variáveis"
      ],
      "metadata": {
        "id": "i1Y3CGPQUpLa"
      }
    },
    {
      "cell_type": "code",
      "source": [
        "a < b\n",
        "a > b\n",
        "a != b\n",
        "a == b\n"
      ],
      "metadata": {
        "colab": {
          "base_uri": "https://localhost:8080/"
        },
        "id": "ntf6dZZsVACH",
        "outputId": "d8f3a97c-0460-4d8c-f862-689399daeb85"
      },
      "execution_count": 82,
      "outputs": [
        {
          "output_type": "execute_result",
          "data": {
            "text/plain": [
              "False"
            ]
          },
          "metadata": {},
          "execution_count": 82
        }
      ]
    },
    {
      "cell_type": "code",
      "source": [
        ""
      ],
      "metadata": {
        "id": "AWm1ZxwmUqgX"
      },
      "execution_count": null,
      "outputs": []
    },
    {
      "cell_type": "markdown",
      "source": [
        "### Operadores de Atribuição\n",
        "\n",
        "Podemos atribuir valores para uma variável, de diferentes formas "
      ],
      "metadata": {
        "id": "j2N2bjH_Vpz5"
      }
    },
    {
      "cell_type": "code",
      "source": [
        "a = 3\n",
        "print(a) # a = 3\n",
        "print() # pular linha\n",
        "\n",
        "a = a + 7 \n",
        "print(a) # a = 10\n",
        "print(\"\") # pular linha (com ou sem espaço entre as aspas)\n",
        "\n",
        "a += 5\n",
        "print(a,\"\\n\") # a = 15 (concatenando \\n para pular linha)\n",
        "\n",
        "a -= 3\n",
        "print(a) # a = 12\n",
        "\n",
        "a *= 3\n",
        "print(a) # a = 36\n",
        "         # a = a * 3 (12 * 3)\n",
        "a /= 2\n",
        "print(a) # a = 36/2 = 18\n"
      ],
      "metadata": {
        "colab": {
          "base_uri": "https://localhost:8080/"
        },
        "id": "ARXA4FdxV1Ag",
        "outputId": "2b52880e-7a2f-41c6-e7f3-3420b20744b7"
      },
      "execution_count": 101,
      "outputs": [
        {
          "output_type": "stream",
          "name": "stdout",
          "text": [
            "3\n",
            "\n",
            "10\n",
            "\n",
            "15 \n",
            "\n",
            "12\n",
            "36\n",
            "18.0\n"
          ]
        }
      ]
    },
    {
      "cell_type": "code",
      "source": [
        ""
      ],
      "metadata": {
        "id": "LsAwyiXPcRnS"
      },
      "execution_count": null,
      "outputs": []
    },
    {
      "cell_type": "markdown",
      "source": [
        "### Trabalhar com Strings (\"\")"
      ],
      "metadata": {
        "id": "KdlD7TzNcTSh"
      }
    },
    {
      "cell_type": "code",
      "source": [
        "meuTexto=\"Caixa D'água\" # melhor\n",
        "print(meuTexto)\n",
        "\n",
        "meuSeguntoTexto='Caixa D\\'água'\n",
        "print(meuSeguntoTexto)\n",
        "\n",
        "print(\"Caixa D'água\")\n"
      ],
      "metadata": {
        "colab": {
          "base_uri": "https://localhost:8080/"
        },
        "id": "Hj00tY7Mcaoi",
        "outputId": "55c6b106-b8ed-4842-fc3f-f6df074f80fa"
      },
      "execution_count": 110,
      "outputs": [
        {
          "output_type": "stream",
          "name": "stdout",
          "text": [
            "Caixa D'água\n",
            "Caixa D'água\n",
            "Caixa D'água\n"
          ]
        }
      ]
    },
    {
      "cell_type": "code",
      "source": [
        ""
      ],
      "metadata": {
        "id": "pyVGAyQIf5RK"
      },
      "execution_count": null,
      "outputs": []
    },
    {
      "cell_type": "markdown",
      "source": [
        "### Fatiando Variáveis"
      ],
      "metadata": {
        "id": "3_dJnvQUf6W9"
      }
    },
    {
      "cell_type": "code",
      "source": [
        "nome = \"Wellington A Garcia\"\n",
        "print(nome[0],nome[11],nome[13]) \n",
        "\n",
        "print(nome[11],nome[13],nome[0])\n",
        "\n",
        "print(nome[13],nome[0],nome[11])\n",
        "\n",
        "print(\"\\n\"+nome[0:4])\n",
        "\n"
      ],
      "metadata": {
        "colab": {
          "base_uri": "https://localhost:8080/"
        },
        "id": "1V54eldDf-4V",
        "outputId": "1324d4fc-227a-4e3c-c28f-c9a96de8d129"
      },
      "execution_count": 55,
      "outputs": [
        {
          "output_type": "stream",
          "name": "stdout",
          "text": [
            "W A G\n",
            "A G W\n",
            "G W A\n",
            "\n",
            "Well\n"
          ]
        }
      ]
    },
    {
      "cell_type": "code",
      "source": [
        "numeros=\"1234567890\"\n",
        "print(numeros)\n",
        "print(numeros[::2])\n",
        "print(numeros[1::2])"
      ],
      "metadata": {
        "colab": {
          "base_uri": "https://localhost:8080/"
        },
        "id": "CNgUPB2EcUbI",
        "outputId": "30ebe5de-aeb9-45fb-fefb-9ac09dd78311"
      },
      "execution_count": 54,
      "outputs": [
        {
          "output_type": "stream",
          "name": "stdout",
          "text": [
            "1234567890\n",
            "13579\n",
            "24680\n"
          ]
        }
      ]
    },
    {
      "cell_type": "code",
      "source": [
        ""
      ],
      "metadata": {
        "id": "b_-yaDhcexxi"
      },
      "execution_count": null,
      "outputs": []
    },
    {
      "cell_type": "markdown",
      "source": [
        "### Verificando as infos do sistema"
      ],
      "metadata": {
        "id": "NKJbIe8tezRO"
      }
    },
    {
      "cell_type": "code",
      "source": [
        "frase=\"Aprendendo Python\"\n",
        "\"Py\" in frase\n",
        "\n",
        "\"Py\" not in frase\n",
        "\n",
        "len(frase) # quantidade de caracteres c/ espaço"
      ],
      "metadata": {
        "colab": {
          "base_uri": "https://localhost:8080/"
        },
        "id": "UmsBxRq3e2yG",
        "outputId": "c7f7a31b-34dc-4762-9447-ce4c1c567a33"
      },
      "execution_count": 61,
      "outputs": [
        {
          "output_type": "execute_result",
          "data": {
            "text/plain": [
              "17"
            ]
          },
          "metadata": {},
          "execution_count": 61
        }
      ]
    },
    {
      "cell_type": "code",
      "source": [
        "frase.lower()"
      ],
      "metadata": {
        "colab": {
          "base_uri": "https://localhost:8080/",
          "height": 35
        },
        "id": "aUOmRYrSgjlJ",
        "outputId": "2edb2e45-2cdb-47f1-f3e5-90b33bf28da7"
      },
      "execution_count": 63,
      "outputs": [
        {
          "output_type": "execute_result",
          "data": {
            "application/vnd.google.colaboratory.intrinsic+json": {
              "type": "string"
            },
            "text/plain": [
              "'aprendendo python'"
            ]
          },
          "metadata": {},
          "execution_count": 63
        }
      ]
    },
    {
      "cell_type": "code",
      "source": [
        "frase.upper()"
      ],
      "metadata": {
        "colab": {
          "base_uri": "https://localhost:8080/",
          "height": 35
        },
        "id": "UKK5ynCwg19A",
        "outputId": "acbb3fff-b7a0-46e8-cfc6-1e6e5d9d8fb0"
      },
      "execution_count": 65,
      "outputs": [
        {
          "output_type": "execute_result",
          "data": {
            "application/vnd.google.colaboratory.intrinsic+json": {
              "type": "string"
            },
            "text/plain": [
              "'APRENDENDO PYTHON'"
            ]
          },
          "metadata": {},
          "execution_count": 65
        }
      ]
    },
    {
      "cell_type": "code",
      "source": [
        "fraseMinuscula=frase.lower()\n",
        "print(fraseMinuscula)\n",
        "print(frase)"
      ],
      "metadata": {
        "colab": {
          "base_uri": "https://localhost:8080/"
        },
        "id": "LapYxlcrhOon",
        "outputId": "8a12a5d3-225e-4860-ecf9-0a69a68e5b2c"
      },
      "execution_count": 68,
      "outputs": [
        {
          "output_type": "stream",
          "name": "stdout",
          "text": [
            "aprendendo python\n",
            "Aprendendo Python\n"
          ]
        }
      ]
    },
    {
      "cell_type": "code",
      "source": [
        "fraseMaiuscula=frase.upper()\n",
        "print(fraseMaiuscula)\n",
        "print(frase)"
      ],
      "metadata": {
        "colab": {
          "base_uri": "https://localhost:8080/"
        },
        "id": "piGEgU2lhiV-",
        "outputId": "f629ab34-3703-4b1d-a28f-4d65d0db0f70"
      },
      "execution_count": 71,
      "outputs": [
        {
          "output_type": "stream",
          "name": "stdout",
          "text": [
            "APRENDENDO PYTHON\n",
            "Aprendendo Python\n"
          ]
        }
      ]
    },
    {
      "cell_type": "code",
      "source": [
        "numeros=\"1234567890\"\n",
        "print(numeros[::-1])\n",
        "print(numeros[::-2])"
      ],
      "metadata": {
        "colab": {
          "base_uri": "https://localhost:8080/"
        },
        "id": "6vkti6CjiAsu",
        "outputId": "d19136e7-cf93-4a33-d9c8-de0de3379f74"
      },
      "execution_count": 74,
      "outputs": [
        {
          "output_type": "stream",
          "name": "stdout",
          "text": [
            "0987654321\n",
            "08642\n"
          ]
        }
      ]
    },
    {
      "cell_type": "code",
      "source": [
        "meuNome=\"Wellington\"\n",
        "print(meuNome[::-1])"
      ],
      "metadata": {
        "colab": {
          "base_uri": "https://localhost:8080/"
        },
        "id": "tkE191M6iXct",
        "outputId": "9c1d7e8f-f584-467c-a6a5-20d7e5a768ef"
      },
      "execution_count": 77,
      "outputs": [
        {
          "output_type": "stream",
          "name": "stdout",
          "text": [
            "notgnilleW\n"
          ]
        }
      ]
    },
    {
      "cell_type": "code",
      "source": [
        "meusCaracteres=\"01234567890abcdefghijklmnoppqrstuvwxyzABCDEFGHIJKLMNOPQRTUUVWXYZ!@#$%¨&*()_+\"\n",
        "minhaSenhaGerada=meusCaracteres[1::5] + meusCaracteres[2:3]\n",
        "print(minhaSenhaGerada)"
      ],
      "metadata": {
        "colab": {
          "base_uri": "https://localhost:8080/"
        },
        "id": "AHIninozj0cP",
        "outputId": "5696331f-0124-43d3-da0b-d2672919657d"
      },
      "execution_count": 82,
      "outputs": [
        {
          "output_type": "stream",
          "name": "stdout",
          "text": [
            "16afkptyDINTX#*2\n"
          ]
        }
      ]
    },
    {
      "cell_type": "code",
      "source": [
        "fraseDois=\"Python é uma linguagem muito bacana!\"\n",
        "\n",
        "fraseDois.split(\"o\")\n",
        "fraseDois.split(\"n\")\n",
        "fraseDois.split(\" \")\n"
      ],
      "metadata": {
        "colab": {
          "base_uri": "https://localhost:8080/"
        },
        "id": "rHkmFYXamkV4",
        "outputId": "9088777c-004a-4063-df69-820f81d84817"
      },
      "execution_count": 87,
      "outputs": [
        {
          "output_type": "execute_result",
          "data": {
            "text/plain": [
              "['Python', 'é', 'uma', 'linguagem', 'muito', 'bacana!']"
            ]
          },
          "metadata": {},
          "execution_count": 87
        }
      ]
    },
    {
      "cell_type": "code",
      "source": [
        ""
      ],
      "metadata": {
        "id": "BkizhZ3Tpc4b"
      },
      "execution_count": null,
      "outputs": []
    },
    {
      "cell_type": "markdown",
      "source": [
        "### Trabalhando com listas"
      ],
      "metadata": {
        "id": "0_tcQEJopmhM"
      }
    },
    {
      "cell_type": "code",
      "source": [
        "minhaLista=[\"Pera\",\"Uva\",\"Maçã\",\"Banana\",\"Melancia\",\"Kiwi\",\"Manga\",\"Tomate\",\"Morango\"]\n",
        "\n",
        "print(minhaLista)\n",
        "print(minhaLista[2])\n",
        "print(minhaLista[2:])\n",
        "print(minhaLista[:2])"
      ],
      "metadata": {
        "colab": {
          "base_uri": "https://localhost:8080/"
        },
        "id": "MIJcx8gKppIk",
        "outputId": "019cbc4f-4121-4b93-9562-9e773d096f17"
      },
      "execution_count": 95,
      "outputs": [
        {
          "output_type": "stream",
          "name": "stdout",
          "text": [
            "['Pera', 'Uva', 'Maçã', 'Banana', 'Melancia', 'Kiwi', 'Manga', 'Tomate', 'Morango']\n",
            "Maçã\n",
            "['Maçã', 'Banana', 'Melancia', 'Kiwi', 'Manga', 'Tomate', 'Morango']\n",
            "['Pera', 'Uva']\n"
          ]
        }
      ]
    },
    {
      "cell_type": "code",
      "source": [
        "minhaLista.append(\"Jaca\")\n",
        "print(minhaLista)"
      ],
      "metadata": {
        "colab": {
          "base_uri": "https://localhost:8080/"
        },
        "id": "J6XN7cWGrCRv",
        "outputId": "71ac807a-478f-4a71-f5a1-732105f7cf26"
      },
      "execution_count": 97,
      "outputs": [
        {
          "output_type": "stream",
          "name": "stdout",
          "text": [
            "['Pera', 'Uva', 'Maçã', 'Banana', 'Melancia', 'Kiwi', 'Manga', 'Tomate', 'Morango', 'Jaca', 'Jaca']\n"
          ]
        }
      ]
    },
    {
      "cell_type": "code",
      "source": [
        "minhaLista.remove(\"Banana\")\n",
        "print(minhaLista)"
      ],
      "metadata": {
        "colab": {
          "base_uri": "https://localhost:8080/",
          "height": 184
        },
        "id": "Bty7A-SErZoV",
        "outputId": "6a475484-168b-4dc8-a363-275835ae6fb9"
      },
      "execution_count": 104,
      "outputs": [
        {
          "output_type": "error",
          "ename": "ValueError",
          "evalue": "ignored",
          "traceback": [
            "\u001b[0;31m---------------------------------------------------------------------------\u001b[0m",
            "\u001b[0;31mValueError\u001b[0m                                Traceback (most recent call last)",
            "\u001b[0;32m<ipython-input-104-16536a94a007>\u001b[0m in \u001b[0;36m<module>\u001b[0;34m()\u001b[0m\n\u001b[0;32m----> 1\u001b[0;31m \u001b[0mminhaLista\u001b[0m\u001b[0;34m.\u001b[0m\u001b[0mremove\u001b[0m\u001b[0;34m(\u001b[0m\u001b[0;34m\"Banana\"\u001b[0m\u001b[0;34m)\u001b[0m\u001b[0;34m\u001b[0m\u001b[0;34m\u001b[0m\u001b[0m\n\u001b[0m\u001b[1;32m      2\u001b[0m \u001b[0mprint\u001b[0m\u001b[0;34m(\u001b[0m\u001b[0mminhaLista\u001b[0m\u001b[0;34m)\u001b[0m\u001b[0;34m\u001b[0m\u001b[0;34m\u001b[0m\u001b[0m\n",
            "\u001b[0;31mValueError\u001b[0m: list.remove(x): x not in list"
          ]
        }
      ]
    },
    {
      "cell_type": "code",
      "source": [
        "meuNome = \"Wellington\"\n",
        "idade = 43\n",
        "email = \"wellingtonag@gmail.com\"\n",
        "\n",
        "print(\"Olá, meu nome é {}, tenho {} anos e meu e-mail é {}.\".format(meuNome, idade, email))"
      ],
      "metadata": {
        "colab": {
          "base_uri": "https://localhost:8080/"
        },
        "id": "_nA-q1VKtFMY",
        "outputId": "feaca872-f1dd-4c45-fd41-58aaeccbf933"
      },
      "execution_count": 106,
      "outputs": [
        {
          "output_type": "stream",
          "name": "stdout",
          "text": [
            "Olá, meu nome é Wellington, tenho 43 anos e meu e-mail é wellingtonag@gmail.com.\n"
          ]
        }
      ]
    }
  ]
}